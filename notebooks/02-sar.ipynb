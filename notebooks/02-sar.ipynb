{
    "cells": [
        {
            "cell_type": "markdown",
            "metadata": {},
            "source": [
                "# SAR \n",
                "\n",
                "Simple Algorithm for Recommendation (SAR) is a fast and scalable algorithm for personalized recommendations based on user transaction history. It produces easily explainable and interpretable recommendations and handles \"cold item\" and \"semi-cold user\" scenarios. SAR is a kind of neighborhood based algorithm (as discussed in [Recommender Systems by Aggarwal](https://dl.acm.org/citation.cfm?id=2931100)) which is intended for ranking top items for each user.\n",
                "\n",
                "SAR recommends items that are most ***similar*** to the ones that the user already has an existing ***affinity*** for. Two items are ***similar*** if the users that interacted with one item are also likely to have interacted with the other. A user has an ***affinity*** to an item if they have interacted with it in the past.\n",
                "\n",
                "### Advantages of SAR:\n",
                "- High accuracy for an easy to train and deploy algorithm\n",
                "- Fast training, only requiring simple counting to construct matrices used at prediction time. \n",
                "- Fast scoring, only involving multiplication of the similarity matrix with an affinity vector\n",
                "\n",
                "### Disatvantages of SAR:\n",
                "- Since it does not use item or user features, it can be at a disadvantage against algorithms that do.\n",
                "- It's memory-hungry, requiring the creation of an $mxm$ sparse square matrix (where $m$ is the number of items). This can also be a problem for many matrix factorization algorithms.\n",
                "- SAR favors an implicit rating scenario and it does not predict ratings."
            ]
        },
        {
            "cell_type": "markdown",
            "metadata": {},
            "source": [
                "## 0 Global Settings and Imports"
            ]
        },
        {
            "cell_type": "code",
            "execution_count": 1,
            "metadata": {},
            "outputs": [
                {
                    "name": "stdout",
                    "output_type": "stream",
                    "text": [
                        "NumPy version: 1.24.3\n",
                        "Pandas version: 1.5.3\n"
                    ]
                }
            ],
            "source": [
                "import logging\n",
                "import numpy as np\n",
                "import pandas as pd\n",
                "\n",
                "from recommenders.utils.timer import Timer\n",
                "from recommenders.models.sar import SAR\n",
                "from recommenders.evaluation.python_evaluation import (\n",
                "    map_at_k,\n",
                "    ndcg_at_k,\n",
                "    precision_at_k,\n",
                "    recall_at_k,\n",
                ")\n",
                "\n",
                "\n",
                "print(f\"NumPy version: {np.__version__}\")\n",
                "print(f\"Pandas version: {pd.__version__}\")"
            ]
        },
        {
            "cell_type": "markdown",
            "metadata": {},
            "source": [
                "# 1 Load Data\n",
                "\n",
                "SAR is intended to be used on interactions with the following schema:\n",
                "`<User ID>, <Item ID>,<Time>,[<Event Type>], [<Event Weight>]`. \n",
                "\n",
                "All the columns directly correspond with the `recommenders` api, where `rating` is the `event_weight` and `timestamp` is the `time`."
            ]
        },
        {
            "cell_type": "code",
            "execution_count": 2,
            "metadata": {
                "tags": [
                    "parameters"
                ]
            },
            "outputs": [],
            "source": [
                "# top k items to recommend\n",
                "TOP_K = 10"
            ]
        },
        {
            "cell_type": "code",
            "execution_count": 3,
            "metadata": {},
            "outputs": [
                {
                    "data": {
                        "text/html": [
                            "<div>\n",
                            "<style scoped>\n",
                            "    .dataframe tbody tr th:only-of-type {\n",
                            "        vertical-align: middle;\n",
                            "    }\n",
                            "\n",
                            "    .dataframe tbody tr th {\n",
                            "        vertical-align: top;\n",
                            "    }\n",
                            "\n",
                            "    .dataframe thead th {\n",
                            "        text-align: right;\n",
                            "    }\n",
                            "</style>\n",
                            "<table border=\"1\" class=\"dataframe\">\n",
                            "  <thead>\n",
                            "    <tr style=\"text-align: right;\">\n",
                            "      <th></th>\n",
                            "      <th>user_id</th>\n",
                            "      <th>item_id</th>\n",
                            "      <th>rating</th>\n",
                            "      <th>timestamp</th>\n",
                            "    </tr>\n",
                            "  </thead>\n",
                            "  <tbody>\n",
                            "    <tr>\n",
                            "      <th>0</th>\n",
                            "      <td>1</td>\n",
                            "      <td>31</td>\n",
                            "      <td>3.0</td>\n",
                            "      <td>875072144</td>\n",
                            "    </tr>\n",
                            "    <tr>\n",
                            "      <th>1</th>\n",
                            "      <td>1</td>\n",
                            "      <td>39</td>\n",
                            "      <td>4.0</td>\n",
                            "      <td>875072173</td>\n",
                            "    </tr>\n",
                            "    <tr>\n",
                            "      <th>2</th>\n",
                            "      <td>1</td>\n",
                            "      <td>163</td>\n",
                            "      <td>4.0</td>\n",
                            "      <td>875072442</td>\n",
                            "    </tr>\n",
                            "    <tr>\n",
                            "      <th>3</th>\n",
                            "      <td>1</td>\n",
                            "      <td>226</td>\n",
                            "      <td>3.0</td>\n",
                            "      <td>878543176</td>\n",
                            "    </tr>\n",
                            "    <tr>\n",
                            "      <th>4</th>\n",
                            "      <td>1</td>\n",
                            "      <td>169</td>\n",
                            "      <td>5.0</td>\n",
                            "      <td>878543541</td>\n",
                            "    </tr>\n",
                            "  </tbody>\n",
                            "</table>\n",
                            "</div>"
                        ],
                        "text/plain": [
                            "   user_id  item_id  rating  timestamp\n",
                            "0        1       31     3.0  875072144\n",
                            "1        1       39     4.0  875072173\n",
                            "2        1      163     4.0  875072442\n",
                            "3        1      226     3.0  878543176\n",
                            "4        1      169     5.0  878543541"
                        ]
                    },
                    "execution_count": 3,
                    "metadata": {},
                    "output_type": "execute_result"
                }
            ],
            "source": [
                "train = pd.read_csv(\"../data/interim/ml-100k/train.csv\")\n",
                "test = pd.read_csv(\"../data/interim/ml-100k/test.csv\")\n",
                "\n",
                "train.head()"
            ]
        },
        {
            "cell_type": "markdown",
            "metadata": {},
            "source": [
                "# 2 Train the SAR Model"
            ]
        },
        {
            "cell_type": "markdown",
            "metadata": {},
            "source": [
                "### 2.1 Instantiate the SAR algorithm and set the index\n",
                "\n",
                "I will use the single node implementation of SAR and specify the column names to match the dataset."
            ]
        },
        {
            "cell_type": "code",
            "execution_count": 4,
            "metadata": {},
            "outputs": [],
            "source": [
                "model = SAR(\n",
                "    col_user=\"user_id\",\n",
                "    col_item=\"item_id\",\n",
                "    col_rating=\"rating\",\n",
                "    col_timestamp=\"timestamp\",\n",
                "    similarity_type=\"jaccard\",\n",
                "    time_decay_coefficient=30,\n",
                "    timedecay_formula=True,\n",
                "    normalize=True,\n",
                ")"
            ]
        },
        {
            "cell_type": "markdown",
            "metadata": {},
            "source": [
                "### 2.2 Train the SAR model on our training data, and get the top-k recommendations for our testing data\n",
                "\n",
                "#### How it works\n",
                "\n",
                "1. SAR computes an item-to-item ***co-occurence matrix***. Co-occurence represents the number of times two items appear together for any given user.\n",
                "\n",
                "2. SAR computes an ***affinity matrix*** to capture the strength of the relationship between each user and each item. Affinity is driven by *rating* and *time* of the event\n",
                "\n",
                "3. Recommendations are achieved by multiplying the affinity matrix $A$ and the similarity matrix $S$. The result is a ***recommendation score matrix*** $R$ from which the top-k recommendations can be extracted."
            ]
        },
        {
            "cell_type": "code",
            "execution_count": 5,
            "metadata": {},
            "outputs": [
                {
                    "name": "stdout",
                    "output_type": "stream",
                    "text": [
                        "Took 0.2995656509992841 seconds for training.\n"
                    ]
                }
            ],
            "source": [
                "with Timer() as train_time:\n",
                "    model.fit(train)\n",
                "\n",
                "print(\"Took {} seconds for training.\".format(train_time.interval))"
            ]
        },
        {
            "cell_type": "code",
            "execution_count": 6,
            "metadata": {},
            "outputs": [
                {
                    "name": "stdout",
                    "output_type": "stream",
                    "text": [
                        "Took 0.23474036500010698 seconds for prediction.\n"
                    ]
                }
            ],
            "source": [
                "with Timer() as test_time:\n",
                "    top_k = model.recommend_k_items(test, top_k=TOP_K, remove_seen=True)\n",
                "\n",
                "print(\"Took {} seconds for prediction.\".format(test_time.interval))"
            ]
        },
        {
            "cell_type": "code",
            "execution_count": 7,
            "metadata": {},
            "outputs": [
                {
                    "data": {
                        "text/html": [
                            "<div>\n",
                            "<style scoped>\n",
                            "    .dataframe tbody tr th:only-of-type {\n",
                            "        vertical-align: middle;\n",
                            "    }\n",
                            "\n",
                            "    .dataframe tbody tr th {\n",
                            "        vertical-align: top;\n",
                            "    }\n",
                            "\n",
                            "    .dataframe thead th {\n",
                            "        text-align: right;\n",
                            "    }\n",
                            "</style>\n",
                            "<table border=\"1\" class=\"dataframe\">\n",
                            "  <thead>\n",
                            "    <tr style=\"text-align: right;\">\n",
                            "      <th></th>\n",
                            "      <th>user_id</th>\n",
                            "      <th>item_id</th>\n",
                            "      <th>prediction</th>\n",
                            "    </tr>\n",
                            "  </thead>\n",
                            "  <tbody>\n",
                            "    <tr>\n",
                            "      <th>0</th>\n",
                            "      <td>1</td>\n",
                            "      <td>204</td>\n",
                            "      <td>3.231405</td>\n",
                            "    </tr>\n",
                            "    <tr>\n",
                            "      <th>1</th>\n",
                            "      <td>1</td>\n",
                            "      <td>89</td>\n",
                            "      <td>3.199445</td>\n",
                            "    </tr>\n",
                            "    <tr>\n",
                            "      <th>2</th>\n",
                            "      <td>1</td>\n",
                            "      <td>11</td>\n",
                            "      <td>3.154097</td>\n",
                            "    </tr>\n",
                            "    <tr>\n",
                            "      <th>3</th>\n",
                            "      <td>1</td>\n",
                            "      <td>367</td>\n",
                            "      <td>3.113913</td>\n",
                            "    </tr>\n",
                            "    <tr>\n",
                            "      <th>4</th>\n",
                            "      <td>1</td>\n",
                            "      <td>423</td>\n",
                            "      <td>3.054493</td>\n",
                            "    </tr>\n",
                            "    <tr>\n",
                            "      <th>...</th>\n",
                            "      <td>...</td>\n",
                            "      <td>...</td>\n",
                            "      <td>...</td>\n",
                            "    </tr>\n",
                            "    <tr>\n",
                            "      <th>95</th>\n",
                            "      <td>10</td>\n",
                            "      <td>172</td>\n",
                            "      <td>3.941404</td>\n",
                            "    </tr>\n",
                            "    <tr>\n",
                            "      <th>96</th>\n",
                            "      <td>10</td>\n",
                            "      <td>423</td>\n",
                            "      <td>3.938111</td>\n",
                            "    </tr>\n",
                            "    <tr>\n",
                            "      <th>97</th>\n",
                            "      <td>10</td>\n",
                            "      <td>318</td>\n",
                            "      <td>3.898689</td>\n",
                            "    </tr>\n",
                            "    <tr>\n",
                            "      <th>98</th>\n",
                            "      <td>10</td>\n",
                            "      <td>183</td>\n",
                            "      <td>3.897613</td>\n",
                            "    </tr>\n",
                            "    <tr>\n",
                            "      <th>99</th>\n",
                            "      <td>10</td>\n",
                            "      <td>79</td>\n",
                            "      <td>3.879693</td>\n",
                            "    </tr>\n",
                            "  </tbody>\n",
                            "</table>\n",
                            "<p>100 rows × 3 columns</p>\n",
                            "</div>"
                        ],
                        "text/plain": [
                            "    user_id  item_id  prediction\n",
                            "0         1      204    3.231405\n",
                            "1         1       89    3.199445\n",
                            "2         1       11    3.154097\n",
                            "3         1      367    3.113913\n",
                            "4         1      423    3.054493\n",
                            "..      ...      ...         ...\n",
                            "95       10      172    3.941404\n",
                            "96       10      423    3.938111\n",
                            "97       10      318    3.898689\n",
                            "98       10      183    3.897613\n",
                            "99       10       79    3.879693\n",
                            "\n",
                            "[100 rows x 3 columns]"
                        ]
                    },
                    "execution_count": 7,
                    "metadata": {},
                    "output_type": "execute_result"
                }
            ],
            "source": [
                "top_k.head(100)"
            ]
        },
        {
            "cell_type": "code",
            "execution_count": 8,
            "metadata": {},
            "outputs": [
                {
                    "data": {
                        "text/html": [
                            "<div>\n",
                            "<style scoped>\n",
                            "    .dataframe tbody tr th:only-of-type {\n",
                            "        vertical-align: middle;\n",
                            "    }\n",
                            "\n",
                            "    .dataframe tbody tr th {\n",
                            "        vertical-align: top;\n",
                            "    }\n",
                            "\n",
                            "    .dataframe thead th {\n",
                            "        text-align: right;\n",
                            "    }\n",
                            "</style>\n",
                            "<table border=\"1\" class=\"dataframe\">\n",
                            "  <thead>\n",
                            "    <tr style=\"text-align: right;\">\n",
                            "      <th></th>\n",
                            "      <th>prediction</th>\n",
                            "    </tr>\n",
                            "  </thead>\n",
                            "  <tbody>\n",
                            "    <tr>\n",
                            "      <th>count</th>\n",
                            "      <td>9430.000000</td>\n",
                            "    </tr>\n",
                            "    <tr>\n",
                            "      <th>mean</th>\n",
                            "      <td>3.058003</td>\n",
                            "    </tr>\n",
                            "    <tr>\n",
                            "      <th>std</th>\n",
                            "      <td>0.540984</td>\n",
                            "    </tr>\n",
                            "    <tr>\n",
                            "      <th>min</th>\n",
                            "      <td>0.896047</td>\n",
                            "    </tr>\n",
                            "    <tr>\n",
                            "      <th>25%</th>\n",
                            "      <td>2.694779</td>\n",
                            "    </tr>\n",
                            "    <tr>\n",
                            "      <th>50%</th>\n",
                            "      <td>3.112189</td>\n",
                            "    </tr>\n",
                            "    <tr>\n",
                            "      <th>75%</th>\n",
                            "      <td>3.451543</td>\n",
                            "    </tr>\n",
                            "    <tr>\n",
                            "      <th>max</th>\n",
                            "      <td>4.569483</td>\n",
                            "    </tr>\n",
                            "  </tbody>\n",
                            "</table>\n",
                            "</div>"
                        ],
                        "text/plain": [
                            "        prediction\n",
                            "count  9430.000000\n",
                            "mean      3.058003\n",
                            "std       0.540984\n",
                            "min       0.896047\n",
                            "25%       2.694779\n",
                            "50%       3.112189\n",
                            "75%       3.451543\n",
                            "max       4.569483"
                        ]
                    },
                    "execution_count": 8,
                    "metadata": {},
                    "output_type": "execute_result"
                }
            ],
            "source": [
                "top_k[[\"prediction\"]].describe()"
            ]
        },
        {
            "cell_type": "markdown",
            "metadata": {},
            "source": [
                "### 2.3. Evaluate how well SAR performs\n",
                "\n",
                "I am evaluating `SAR` using 4 metrics (because, why not), which are `MAP@10` (Mean Average Precision), `NDCG@10` (Normalized Discounted Cumulative Gain), `Precision@10`, and `Recall@10`.\n",
                "\n",
                "But for the final results, though I will use `Precision@10`, because it is the most important metric for my use case. I chose it because I think, that it is better to recommend less items, but with higher probability that the user will like them, than to recommend more items, which the user will not like."
            ]
        },
        {
            "cell_type": "code",
            "execution_count": 9,
            "metadata": {},
            "outputs": [],
            "source": [
                "# Ranking metrics\n",
                "eval_map = map_at_k(\n",
                "    test, top_k, col_user=\"user_id\", col_item=\"item_id\", col_rating=\"rating\", k=TOP_K\n",
                ")\n",
                "eval_ndcg = ndcg_at_k(\n",
                "    test, top_k, col_user=\"user_id\", col_item=\"item_id\", col_rating=\"rating\", k=TOP_K\n",
                ")\n",
                "eval_precision = precision_at_k(\n",
                "    test, top_k, col_user=\"user_id\", col_item=\"item_id\", col_rating=\"rating\", k=TOP_K\n",
                ")\n",
                "eval_recall = recall_at_k(\n",
                "    test, top_k, col_user=\"user_id\", col_item=\"item_id\", col_rating=\"rating\", k=TOP_K\n",
                ")"
            ]
        },
        {
            "cell_type": "code",
            "execution_count": 10,
            "metadata": {
                "pycharm": {
                    "name": "#%%\n"
                }
            },
            "outputs": [
                {
                    "name": "stdout",
                    "output_type": "stream",
                    "text": [
                        "Model:\t\n",
                        "Top K:\t\t10\n",
                        "MAP:\t\t0.110591\n",
                        "NDCG:\t\t0.382461\n",
                        "Precision@K:\t0.330753\n",
                        "Recall@K:\t0.176385\n"
                    ]
                }
            ],
            "source": [
                "print(\n",
                "    \"Model:\\t\",\n",
                "    \"Top K:\\t\\t%d\" % TOP_K,\n",
                "    \"MAP:\\t\\t%f\" % eval_map,\n",
                "    \"NDCG:\\t\\t%f\" % eval_ndcg,\n",
                "    \"Precision@K:\\t%f\" % eval_precision,\n",
                "    \"Recall@K:\\t%f\" % eval_recall,\n",
                "    sep=\"\\n\",\n",
                ")"
            ]
        },
        {
            "cell_type": "markdown",
            "metadata": {},
            "source": [
                "## 3 Saving the model checkpoint"
            ]
        },
        {
            "cell_type": "code",
            "execution_count": 11,
            "metadata": {},
            "outputs": [],
            "source": [
                "import pickle\n",
                "import datetime\n",
                "\n",
                "\n",
                "with open(f\"../models/sar-best.pkl\", \"wb\") as f:\n",
                "    pickle.dump(model, f)"
            ]
        },
        {
            "cell_type": "markdown",
            "metadata": {},
            "source": [
                "## References\n",
                "\n",
                "- [microsoft-recommenders official example](https://github.com/recommenders-team/recommenders/blob/main/examples/00_quick_start/sar_movielens.ipynb)"
            ]
        }
    ],
    "metadata": {
        "celltoolbar": "Tags",
        "kernelspec": {
            "display_name": "ds-venv",
            "language": "python",
            "name": "python3"
        },
        "language_info": {
            "codemirror_mode": {
                "name": "ipython",
                "version": 3
            },
            "file_extension": ".py",
            "mimetype": "text/x-python",
            "name": "python",
            "nbconvert_exporter": "python",
            "pygments_lexer": "ipython3",
            "version": "3.9.18"
        }
    },
    "nbformat": 4,
    "nbformat_minor": 4
}
