{
    "cells": [
        {
            "cell_type": "markdown",
            "metadata": {},
            "source": [
                "<i>Copyright (c) Recommenders contributors.</i>\n",
                "\n",
                "<i>Licensed under the MIT License.</i>"
            ]
        },
        {
            "cell_type": "markdown",
            "metadata": {},
            "source": [
                "# SAR Single Node on MovieLens (Python, CPU)\n",
                "\n",
                "Simple Algorithm for Recommendation (SAR) is a fast and scalable algorithm for personalized recommendations based on user transaction history. It produces easily explainable and interpretable recommendations and handles \"cold item\" and \"semi-cold user\" scenarios. SAR is a kind of neighborhood based algorithm (as discussed in [Recommender Systems by Aggarwal](https://dl.acm.org/citation.cfm?id=2931100)) which is intended for ranking top items for each user. More details about SAR can be found in the [deep dive notebook](../02_model_collaborative_filtering/sar_deep_dive.ipynb). \n",
                "\n",
                "SAR recommends items that are most ***similar*** to the ones that the user already has an existing ***affinity*** for. Two items are ***similar*** if the users that interacted with one item are also likely to have interacted with the other. A user has an ***affinity*** to an item if they have interacted with it in the past.\n",
                "\n",
                "### Advantages of SAR:\n",
                "- High accuracy for an easy to train and deploy algorithm\n",
                "- Fast training, only requiring simple counting to construct matrices used at prediction time. \n",
                "- Fast scoring, only involving multiplication of the similarity matrix with an affinity vector\n",
                "\n",
                "### Notes to use SAR properly:\n",
                "- Since it does not use item or user features, it can be at a disadvantage against algorithms that do.\n",
                "- It's memory-hungry, requiring the creation of an $mxm$ sparse square matrix (where $m$ is the number of items). This can also be a problem for many matrix factorization algorithms.\n",
                "- SAR favors an implicit rating scenario and it does not predict ratings.\n",
                "\n",
                "This notebook provides an example of how to utilize and evaluate SAR in Python on a CPU."
            ]
        },
        {
            "cell_type": "markdown",
            "metadata": {},
            "source": [
                "# 0 Global Settings and Imports"
            ]
        },
        {
            "cell_type": "code",
            "execution_count": 1,
            "metadata": {},
            "outputs": [
                {
                    "name": "stdout",
                    "output_type": "stream",
                    "text": [
                        "NumPy version: 1.24.3\n",
                        "Pandas version: 1.5.3\n"
                    ]
                }
            ],
            "source": [
                "import logging\n",
                "import numpy as np\n",
                "import pandas as pd\n",
                "from sklearn.preprocessing import minmax_scale\n",
                "\n",
                "from recommenders.utils.timer import Timer\n",
                "from recommenders.utils.python_utils import binarize\n",
                "from recommenders.datasets.python_splitters import python_stratified_split\n",
                "from recommenders.models.sar import SAR\n",
                "from recommenders.evaluation.python_evaluation import (\n",
                "    map_at_k,\n",
                "    ndcg_at_k,\n",
                "    precision_at_k,\n",
                "    recall_at_k,\n",
                "    rmse,\n",
                "    mae,\n",
                "    logloss,\n",
                "    rsquared,\n",
                "    exp_var,\n",
                ")\n",
                "\n",
                "\n",
                "print(f\"NumPy version: {np.__version__}\")\n",
                "print(f\"Pandas version: {pd.__version__}\")"
            ]
        },
        {
            "cell_type": "markdown",
            "metadata": {},
            "source": [
                "# 1 Load Data\n",
                "\n",
                "SAR is intended to be used on interactions with the following schema:\n",
                "`<User ID>, <Item ID>,<Time>,[<Event Type>], [<Event Weight>]`. \n",
                "\n",
                "Each row represents a single interaction between a user and an item. These interactions might be different types of events on an e-commerce website, such as a user clicking to view an item, adding it to a shopping basket, following a recommendation link, and so on. Each event type can be assigned a different weight, for example, we might assign a “buy” event a weight of 10, while a “view” event might only have a weight of 1.\n",
                "\n",
                "The MovieLens dataset is well formatted interactions of Users providing Ratings to Movies (movie ratings are used as the event weight) - we will use it for the rest of the example."
            ]
        },
        {
            "cell_type": "code",
            "execution_count": 2,
            "metadata": {
                "tags": [
                    "parameters"
                ]
            },
            "outputs": [],
            "source": [
                "# top k items to recommend\n",
                "TOP_K = 10"
            ]
        },
        {
            "cell_type": "markdown",
            "metadata": {},
            "source": [
                "### 1.1 Download and use the MovieLens Dataset"
            ]
        },
        {
            "cell_type": "code",
            "execution_count": 3,
            "metadata": {},
            "outputs": [
                {
                    "data": {
                        "text/html": [
                            "<div>\n",
                            "<style scoped>\n",
                            "    .dataframe tbody tr th:only-of-type {\n",
                            "        vertical-align: middle;\n",
                            "    }\n",
                            "\n",
                            "    .dataframe tbody tr th {\n",
                            "        vertical-align: top;\n",
                            "    }\n",
                            "\n",
                            "    .dataframe thead th {\n",
                            "        text-align: right;\n",
                            "    }\n",
                            "</style>\n",
                            "<table border=\"1\" class=\"dataframe\">\n",
                            "  <thead>\n",
                            "    <tr style=\"text-align: right;\">\n",
                            "      <th></th>\n",
                            "      <th>user_id</th>\n",
                            "      <th>item_id</th>\n",
                            "      <th>rating</th>\n",
                            "      <th>timestamp</th>\n",
                            "    </tr>\n",
                            "  </thead>\n",
                            "  <tbody>\n",
                            "    <tr>\n",
                            "      <th>0</th>\n",
                            "      <td>196</td>\n",
                            "      <td>242</td>\n",
                            "      <td>3.0</td>\n",
                            "      <td>881250949</td>\n",
                            "    </tr>\n",
                            "    <tr>\n",
                            "      <th>1</th>\n",
                            "      <td>186</td>\n",
                            "      <td>302</td>\n",
                            "      <td>3.0</td>\n",
                            "      <td>891717742</td>\n",
                            "    </tr>\n",
                            "    <tr>\n",
                            "      <th>2</th>\n",
                            "      <td>22</td>\n",
                            "      <td>377</td>\n",
                            "      <td>1.0</td>\n",
                            "      <td>878887116</td>\n",
                            "    </tr>\n",
                            "    <tr>\n",
                            "      <th>3</th>\n",
                            "      <td>244</td>\n",
                            "      <td>51</td>\n",
                            "      <td>2.0</td>\n",
                            "      <td>880606923</td>\n",
                            "    </tr>\n",
                            "    <tr>\n",
                            "      <th>4</th>\n",
                            "      <td>166</td>\n",
                            "      <td>346</td>\n",
                            "      <td>1.0</td>\n",
                            "      <td>886397596</td>\n",
                            "    </tr>\n",
                            "  </tbody>\n",
                            "</table>\n",
                            "</div>"
                        ],
                        "text/plain": [
                            "   user_id  item_id  rating  timestamp\n",
                            "0      196      242     3.0  881250949\n",
                            "1      186      302     3.0  891717742\n",
                            "2       22      377     1.0  878887116\n",
                            "3      244       51     2.0  880606923\n",
                            "4      166      346     1.0  886397596"
                        ]
                    },
                    "execution_count": 3,
                    "metadata": {},
                    "output_type": "execute_result"
                }
            ],
            "source": [
                "data = pd.read_csv(\n",
                "    \"../data/raw/ml-100k/u.data\",\n",
                "    sep=\"\\t\",\n",
                "    header=None,\n",
                "    names=[\"user_id\", \"item_id\", \"rating\", \"timestamp\"],\n",
                ")\n",
                "\n",
                "# Convert the float precision to 32-bit in order to reduce memory consumption\n",
                "data[\"rating\"] = data[\"rating\"].astype(np.float32)\n",
                "\n",
                "data.head()"
            ]
        },
        {
            "cell_type": "markdown",
            "metadata": {},
            "source": [
                "### 1.2 Split the data using the python random splitter provided in utilities:\n",
                "\n",
                "We split the full dataset into a `train` and `test` dataset to evaluate performance of the algorithm against a held-out set not seen during training. Because SAR generates recommendations based on user preferences, all users that are in the test set must also exist in the training set. For this case, we can use the provided `python_stratified_split` function which holds out a percentage (in this case 25%) of items from each user, but ensures all users are in both `train` and `test` datasets. Other options are available in the `dataset.python_splitters` module which provide more control over how the split occurs."
            ]
        },
        {
            "cell_type": "code",
            "execution_count": 4,
            "metadata": {},
            "outputs": [],
            "source": [
                "train, test = python_stratified_split(data, ratio=0.75, col_user=\"user_id\", col_item=\"item_id\", seed=42)"
            ]
        },
        {
            "cell_type": "code",
            "execution_count": 5,
            "metadata": {},
            "outputs": [
                {
                    "name": "stdout",
                    "output_type": "stream",
                    "text": [
                        "\n",
                        "Train:\n",
                        "Total Ratings: 74992\n",
                        "Unique Users: 943\n",
                        "Unique Items: 1649\n",
                        "\n",
                        "Test:\n",
                        "Total Ratings: 25008\n",
                        "Unique Users: 943\n",
                        "Unique Items: 1444\n",
                        "\n"
                    ]
                }
            ],
            "source": [
                "print(\"\"\"\n",
                "Train:\n",
                "Total Ratings: {train_total}\n",
                "Unique Users: {train_users}\n",
                "Unique Items: {train_items}\n",
                "\n",
                "Test:\n",
                "Total Ratings: {test_total}\n",
                "Unique Users: {test_users}\n",
                "Unique Items: {test_items}\n",
                "\"\"\".format(\n",
                "    train_total=len(train),\n",
                "    train_users=len(train['user_id'].unique()),\n",
                "    train_items=len(train['item_id'].unique()),\n",
                "    test_total=len(test),\n",
                "    test_users=len(test['user_id'].unique()),\n",
                "    test_items=len(test['item_id'].unique()),\n",
                "))"
            ]
        },
        {
            "cell_type": "markdown",
            "metadata": {},
            "source": [
                "# 2 Train the SAR Model"
            ]
        },
        {
            "cell_type": "markdown",
            "metadata": {},
            "source": [
                "### 2.1 Instantiate the SAR algorithm and set the index\n",
                "\n",
                "We will use the single node implementation of SAR and specify the column names to match our dataset (timestamp is an optional column that is used and can be removed if your dataset does not contain it).\n",
                "\n",
                "Other options are specified to control the behavior of the algorithm as described in the [deep dive notebook](../02_model_collaborative_filtering/sar_deep_dive.ipynb)."
            ]
        },
        {
            "cell_type": "code",
            "execution_count": 6,
            "metadata": {},
            "outputs": [],
            "source": [
                "logging.basicConfig(level=logging.DEBUG, \n",
                "                    format='%(asctime)s %(levelname)-8s %(message)s')\n",
                "\n",
                "model = SAR(\n",
                "    col_user=\"user_id\",\n",
                "    col_item=\"item_id\",\n",
                "    col_rating=\"rating\",\n",
                "    col_timestamp=\"timestamp\",\n",
                "    similarity_type=\"jaccard\", \n",
                "    time_decay_coefficient=30, \n",
                "    timedecay_formula=True,\n",
                "    normalize=True\n",
                ")"
            ]
        },
        {
            "cell_type": "markdown",
            "metadata": {},
            "source": [
                "### 2.2 Train the SAR model on our training data, and get the top-k recommendations for our testing data\n",
                "\n",
                "SAR first computes an item-to-item ***co-occurence matrix***. Co-occurence represents the number of times two items appear together for any given user. Once we have the co-occurence matrix, we compute an ***item similarity matrix*** by rescaling the cooccurences by a given metric (Jaccard similarity in this example). \n",
                "\n",
                "We also compute an ***affinity matrix*** to capture the strength of the relationship between each user and each item. Affinity is driven by different types (like *rating* or *viewing* a movie), and by the time of the event. \n",
                "\n",
                "Recommendations are achieved by multiplying the affinity matrix $A$ and the similarity matrix $S$. The result is a ***recommendation score matrix*** $R$. We compute the ***top-k*** results for each user in the `recommend_k_items` function seen below.\n",
                "\n",
                "A full walkthrough of the SAR algorithm can be found [here](../02_model_collaborative_filtering/sar_deep_dive.ipynb)."
            ]
        },
        {
            "cell_type": "code",
            "execution_count": 7,
            "metadata": {},
            "outputs": [
                {
                    "name": "stderr",
                    "output_type": "stream",
                    "text": [
                        "2023-12-04 11:48:20,661 INFO     Collecting user affinity matrix\n",
                        "2023-12-04 11:48:20,664 INFO     Calculating time-decayed affinities\n",
                        "2023-12-04 11:48:20,679 INFO     Creating index columns\n",
                        "2023-12-04 11:48:20,737 INFO     Calculating normalization factors\n",
                        "2023-12-04 11:48:20,762 INFO     Building user affinity sparse matrix\n",
                        "2023-12-04 11:48:20,766 INFO     Calculating item co-occurrence\n",
                        "2023-12-04 11:48:20,904 INFO     Calculating item similarity\n",
                        "2023-12-04 11:48:20,906 INFO     Using jaccard based similarity\n",
                        "2023-12-04 11:48:20,963 INFO     Done training\n"
                    ]
                },
                {
                    "name": "stdout",
                    "output_type": "stream",
                    "text": [
                        "Took 0.31187624800077174 seconds for training.\n"
                    ]
                }
            ],
            "source": [
                "with Timer() as train_time:\n",
                "    model.fit(train)\n",
                "\n",
                "print(\"Took {} seconds for training.\".format(train_time.interval))"
            ]
        },
        {
            "cell_type": "code",
            "execution_count": 8,
            "metadata": {},
            "outputs": [
                {
                    "name": "stderr",
                    "output_type": "stream",
                    "text": [
                        "2023-12-04 11:48:20,976 INFO     Calculating recommendation scores\n",
                        "2023-12-04 11:48:21,168 INFO     Removing seen items\n"
                    ]
                },
                {
                    "name": "stdout",
                    "output_type": "stream",
                    "text": [
                        "Took 0.23502369100060605 seconds for prediction.\n"
                    ]
                }
            ],
            "source": [
                "with Timer() as test_time:\n",
                "    top_k = model.recommend_k_items(test, top_k=TOP_K, remove_seen=True)\n",
                "\n",
                "print(\"Took {} seconds for prediction.\".format(test_time.interval))"
            ]
        },
        {
            "cell_type": "code",
            "execution_count": 9,
            "metadata": {},
            "outputs": [
                {
                    "data": {
                        "text/html": [
                            "<div>\n",
                            "<style scoped>\n",
                            "    .dataframe tbody tr th:only-of-type {\n",
                            "        vertical-align: middle;\n",
                            "    }\n",
                            "\n",
                            "    .dataframe tbody tr th {\n",
                            "        vertical-align: top;\n",
                            "    }\n",
                            "\n",
                            "    .dataframe thead th {\n",
                            "        text-align: right;\n",
                            "    }\n",
                            "</style>\n",
                            "<table border=\"1\" class=\"dataframe\">\n",
                            "  <thead>\n",
                            "    <tr style=\"text-align: right;\">\n",
                            "      <th></th>\n",
                            "      <th>user_id</th>\n",
                            "      <th>item_id</th>\n",
                            "      <th>prediction</th>\n",
                            "    </tr>\n",
                            "  </thead>\n",
                            "  <tbody>\n",
                            "    <tr>\n",
                            "      <th>0</th>\n",
                            "      <td>1</td>\n",
                            "      <td>204</td>\n",
                            "      <td>3.231405</td>\n",
                            "    </tr>\n",
                            "    <tr>\n",
                            "      <th>1</th>\n",
                            "      <td>1</td>\n",
                            "      <td>89</td>\n",
                            "      <td>3.199445</td>\n",
                            "    </tr>\n",
                            "    <tr>\n",
                            "      <th>2</th>\n",
                            "      <td>1</td>\n",
                            "      <td>11</td>\n",
                            "      <td>3.154097</td>\n",
                            "    </tr>\n",
                            "    <tr>\n",
                            "      <th>3</th>\n",
                            "      <td>1</td>\n",
                            "      <td>367</td>\n",
                            "      <td>3.113913</td>\n",
                            "    </tr>\n",
                            "    <tr>\n",
                            "      <th>4</th>\n",
                            "      <td>1</td>\n",
                            "      <td>423</td>\n",
                            "      <td>3.054493</td>\n",
                            "    </tr>\n",
                            "  </tbody>\n",
                            "</table>\n",
                            "</div>"
                        ],
                        "text/plain": [
                            "   user_id  item_id  prediction\n",
                            "0        1      204    3.231405\n",
                            "1        1       89    3.199445\n",
                            "2        1       11    3.154097\n",
                            "3        1      367    3.113913\n",
                            "4        1      423    3.054493"
                        ]
                    },
                    "execution_count": 9,
                    "metadata": {},
                    "output_type": "execute_result"
                }
            ],
            "source": [
                "top_k.head()"
            ]
        },
        {
            "cell_type": "markdown",
            "metadata": {},
            "source": [
                "### 2.3. Evaluate how well SAR performs\n",
                "\n",
                "We evaluate how well SAR performs for a few common ranking metrics provided in the `python_evaluation` module. We will consider the Mean Average Precision (MAP), Normalized Discounted Cumalative Gain (NDCG), Precision, and Recall for the top-k items per user we computed with SAR. User, item and rating column names are specified in each evaluation method."
            ]
        },
        {
            "cell_type": "code",
            "execution_count": 10,
            "metadata": {},
            "outputs": [],
            "source": [
                "# Ranking metrics\n",
                "eval_map = map_at_k(test, top_k, col_user=\"user_id\", col_item=\"item_id\", col_rating=\"rating\", k=TOP_K)\n",
                "eval_ndcg = ndcg_at_k(test, top_k, col_user=\"user_id\", col_item=\"item_id\", col_rating=\"rating\", k=TOP_K)\n",
                "eval_precision = precision_at_k(test, top_k, col_user=\"user_id\", col_item=\"item_id\", col_rating=\"rating\", k=TOP_K)\n",
                "eval_recall = recall_at_k(test, top_k, col_user=\"user_id\", col_item=\"item_id\", col_rating=\"rating\", k=TOP_K)\n"
            ]
        },
        {
            "cell_type": "code",
            "execution_count": 11,
            "metadata": {},
            "outputs": [],
            "source": [
                "# Rating metrics\n",
                "eval_rmse = rmse(test, top_k, col_user=\"user_id\", col_item=\"item_id\", col_rating=\"rating\")\n",
                "eval_mae = mae(test, top_k, col_user=\"user_id\", col_item=\"item_id\", col_rating=\"rating\")\n",
                "eval_rsquared = rsquared(test, top_k, col_user=\"user_id\", col_item=\"item_id\", col_rating=\"rating\")\n",
                "eval_exp_var = exp_var(test, top_k, col_user=\"user_id\", col_item=\"item_id\", col_rating=\"rating\")\n"
            ]
        },
        {
            "cell_type": "code",
            "execution_count": 12,
            "metadata": {
                "pycharm": {
                    "name": "#%%\n"
                }
            },
            "outputs": [],
            "source": [
                "positivity_threshold = 2\n",
                "test_bin = test.copy()\n",
                "test_bin[\"rating\"] = binarize(test_bin[\"rating\"], positivity_threshold)\n",
                "\n",
                "top_k_prob = top_k.copy()\n",
                "top_k_prob[\"prediction\"] = minmax_scale(top_k_prob[\"prediction\"].astype(float))\n",
                "\n",
                "eval_logloss = logloss(\n",
                "    test_bin, top_k_prob, col_user=\"user_id\", col_item=\"item_id\", col_rating=\"rating\"\n",
                ")\n"
            ]
        },
        {
            "cell_type": "code",
            "execution_count": 16,
            "metadata": {
                "pycharm": {
                    "name": "#%%\n"
                }
            },
            "outputs": [
                {
                    "name": "stdout",
                    "output_type": "stream",
                    "text": [
                        "Model:\t\n",
                        "Top K:\t\t10\n",
                        "MAP:\t\t0.110591\n",
                        "NDCG:\t\t0.382461\n",
                        "Precision@K:\t0.330753\n",
                        "Recall@K:\t0.176385\n",
                        "RMSE:\t\t1.253805\n",
                        "MAE:\t\t1.048484\n",
                        "R2:\t\t-0.569363\n",
                        "Exp var:\t0.030474\n",
                        "Logloss:\t0.542861\n"
                    ]
                }
            ],
            "source": [
                "print(\n",
                "    \"Model:\\t\",\n",
                "    \"Top K:\\t\\t%d\" % TOP_K,\n",
                "    \"MAP:\\t\\t%f\" % eval_map,\n",
                "    \"NDCG:\\t\\t%f\" % eval_ndcg,\n",
                "    \"Precision@K:\\t%f\" % eval_precision,\n",
                "    \"Recall@K:\\t%f\" % eval_recall,\n",
                "    \"RMSE:\\t\\t%f\" % eval_rmse,\n",
                "    \"MAE:\\t\\t%f\" % eval_mae,\n",
                "    sep=\"\\n\",\n",
                ")"
            ]
        },
        {
            "cell_type": "code",
            "execution_count": 14,
            "metadata": {
                "pycharm": {
                    "name": "#%%\n"
                }
            },
            "outputs": [
                {
                    "name": "stderr",
                    "output_type": "stream",
                    "text": [
                        "2023-12-04 11:48:21,704 INFO     Calculating recommendation scores\n",
                        "2023-12-04 11:48:21,707 INFO     Removing seen items\n"
                    ]
                },
                {
                    "data": {
                        "text/html": [
                            "<div>\n",
                            "<style scoped>\n",
                            "    .dataframe tbody tr th:only-of-type {\n",
                            "        vertical-align: middle;\n",
                            "    }\n",
                            "\n",
                            "    .dataframe tbody tr th {\n",
                            "        vertical-align: top;\n",
                            "    }\n",
                            "\n",
                            "    .dataframe thead th {\n",
                            "        text-align: right;\n",
                            "    }\n",
                            "</style>\n",
                            "<table border=\"1\" class=\"dataframe\">\n",
                            "  <thead>\n",
                            "    <tr style=\"text-align: right;\">\n",
                            "      <th></th>\n",
                            "      <th>user_id</th>\n",
                            "      <th>item_id</th>\n",
                            "      <th>rating</th>\n",
                            "      <th>timestamp</th>\n",
                            "      <th>prediction</th>\n",
                            "    </tr>\n",
                            "  </thead>\n",
                            "  <tbody>\n",
                            "    <tr>\n",
                            "      <th>0</th>\n",
                            "      <td>54</td>\n",
                            "      <td>100</td>\n",
                            "      <td>5.0</td>\n",
                            "      <td>880931595</td>\n",
                            "      <td>NaN</td>\n",
                            "    </tr>\n",
                            "    <tr>\n",
                            "      <th>1</th>\n",
                            "      <td>54</td>\n",
                            "      <td>117</td>\n",
                            "      <td>5.0</td>\n",
                            "      <td>880935384</td>\n",
                            "      <td>2.178230</td>\n",
                            "    </tr>\n",
                            "    <tr>\n",
                            "      <th>2</th>\n",
                            "      <td>54</td>\n",
                            "      <td>268</td>\n",
                            "      <td>5.0</td>\n",
                            "      <td>883963510</td>\n",
                            "      <td>2.162576</td>\n",
                            "    </tr>\n",
                            "    <tr>\n",
                            "      <th>3</th>\n",
                            "      <td>54</td>\n",
                            "      <td>741</td>\n",
                            "      <td>5.0</td>\n",
                            "      <td>880931687</td>\n",
                            "      <td>NaN</td>\n",
                            "    </tr>\n",
                            "    <tr>\n",
                            "      <th>4</th>\n",
                            "      <td>54</td>\n",
                            "      <td>25</td>\n",
                            "      <td>4.0</td>\n",
                            "      <td>880936500</td>\n",
                            "      <td>NaN</td>\n",
                            "    </tr>\n",
                            "    <tr>\n",
                            "      <th>5</th>\n",
                            "      <td>54</td>\n",
                            "      <td>273</td>\n",
                            "      <td>4.0</td>\n",
                            "      <td>880934806</td>\n",
                            "      <td>NaN</td>\n",
                            "    </tr>\n",
                            "    <tr>\n",
                            "      <th>6</th>\n",
                            "      <td>54</td>\n",
                            "      <td>237</td>\n",
                            "      <td>4.0</td>\n",
                            "      <td>880935028</td>\n",
                            "      <td>NaN</td>\n",
                            "    </tr>\n",
                            "    <tr>\n",
                            "      <th>7</th>\n",
                            "      <td>54</td>\n",
                            "      <td>7</td>\n",
                            "      <td>4.0</td>\n",
                            "      <td>880935294</td>\n",
                            "      <td>NaN</td>\n",
                            "    </tr>\n",
                            "    <tr>\n",
                            "      <th>8</th>\n",
                            "      <td>54</td>\n",
                            "      <td>257</td>\n",
                            "      <td>4.0</td>\n",
                            "      <td>880937311</td>\n",
                            "      <td>NaN</td>\n",
                            "    </tr>\n",
                            "    <tr>\n",
                            "      <th>9</th>\n",
                            "      <td>54</td>\n",
                            "      <td>1016</td>\n",
                            "      <td>4.0</td>\n",
                            "      <td>890609001</td>\n",
                            "      <td>NaN</td>\n",
                            "    </tr>\n",
                            "  </tbody>\n",
                            "</table>\n",
                            "</div>"
                        ],
                        "text/plain": [
                            "   user_id  item_id  rating  timestamp  prediction\n",
                            "0       54      100     5.0  880931595         NaN\n",
                            "1       54      117     5.0  880935384    2.178230\n",
                            "2       54      268     5.0  883963510    2.162576\n",
                            "3       54      741     5.0  880931687         NaN\n",
                            "4       54       25     4.0  880936500         NaN\n",
                            "5       54      273     4.0  880934806         NaN\n",
                            "6       54      237     4.0  880935028         NaN\n",
                            "7       54        7     4.0  880935294         NaN\n",
                            "8       54      257     4.0  880937311         NaN\n",
                            "9       54     1016     4.0  890609001         NaN"
                        ]
                    },
                    "execution_count": 14,
                    "metadata": {},
                    "output_type": "execute_result"
                }
            ],
            "source": [
                "# Now let's look at the results for a specific user\n",
                "user_id = 54\n",
                "\n",
                "ground_truth = test[test[\"user_id\"] == user_id].sort_values(\n",
                "    by=\"rating\", ascending=False\n",
                ")[:TOP_K]\n",
                "prediction = model.recommend_k_items(\n",
                "    pd.DataFrame(dict(user_id=[user_id])), remove_seen=True\n",
                ")\n",
                "df = pd.merge(ground_truth, prediction, on=[\"user_id\", \"item_id\"], how=\"left\")\n",
                "df.head(10)"
            ]
        },
        {
            "cell_type": "markdown",
            "metadata": {},
            "source": [
                "Above, we see that one of the highest rated items from the test set was recovered by the model's top-k recommendations, however the others were not. Offline evaluations are difficult as they can only use what was seen previously in the test set and may not represent the user's actual preferences across the entire set of items. Adjustments to how the data is split, algorithm is used and hyper-parameters can improve the results here. "
            ]
        }
    ],
    "metadata": {
        "celltoolbar": "Tags",
        "kernelspec": {
            "display_name": "ds-venv",
            "language": "python",
            "name": "python3"
        },
        "language_info": {
            "codemirror_mode": {
                "name": "ipython",
                "version": 3
            },
            "file_extension": ".py",
            "mimetype": "text/x-python",
            "name": "python",
            "nbconvert_exporter": "python",
            "pygments_lexer": "ipython3",
            "version": "3.9.18"
        }
    },
    "nbformat": 4,
    "nbformat_minor": 4
}
